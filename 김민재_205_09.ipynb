{
  "nbformat": 4,
  "nbformat_minor": 0,
  "metadata": {
    "colab": {
      "provenance": [],
      "include_colab_link": true
    },
    "kernelspec": {
      "name": "python3",
      "display_name": "Python 3"
    },
    "language_info": {
      "name": "python"
    }
  },
  "cells": [
    {
      "cell_type": "markdown",
      "metadata": {
        "id": "view-in-github",
        "colab_type": "text"
      },
      "source": [
        "<a href=\"https://colab.research.google.com/github/Minjaero/-/blob/main/%EA%B9%80%EB%AF%BC%EC%9E%AC_205_09.ipynb\" target=\"_parent\"><img src=\"https://colab.research.google.com/assets/colab-badge.svg\" alt=\"Open In Colab\"/></a>"
      ]
    },
    {
      "cell_type": "code",
      "execution_count": 2,
      "metadata": {
        "id": "YxlGTx4tM2IB",
        "colab": {
          "base_uri": "https://localhost:8080/"
        },
        "outputId": "05755306-b9d0-4b78-fac1-cbbe87b51afc"
      },
      "outputs": [
        {
          "output_type": "stream",
          "name": "stdout",
          "text": [
            "apple\n",
            "orange\n",
            "banana\n"
          ]
        }
      ],
      "source": [
        "fruits = ['apple', 'orange', 'banana']\n",
        "\n",
        "for fruit in fruits:\n",
        "  print(fruit)"
      ]
    },
    {
      "cell_type": "code",
      "source": [
        "s = \"Hello\"\n",
        "for i in s:\n",
        "  print(i, end='')"
      ],
      "metadata": {
        "colab": {
          "base_uri": "https://localhost:8080/"
        },
        "id": "235s_zH3QJjf",
        "outputId": "1f9752bf-5d80-476d-a2fc-3f969b16c565"
      },
      "execution_count": 3,
      "outputs": [
        {
          "output_type": "stream",
          "name": "stdout",
          "text": [
            "Hello"
          ]
        }
      ]
    },
    {
      "cell_type": "code",
      "source": [
        "colors = [\"빨간색\", \"파란색\", \"노란색\", \"초록색\"]\n",
        "for color in colors:\n",
        "    print(\"나는 %s을 좋아한다\" %color)"
      ],
      "metadata": {
        "colab": {
          "base_uri": "https://localhost:8080/"
        },
        "id": "GM1i8pxCQP0k",
        "outputId": "c4b14999-0b18-4c33-db7d-ed3ab350754d"
      },
      "execution_count": 7,
      "outputs": [
        {
          "output_type": "stream",
          "name": "stdout",
          "text": [
            "나는 빨간색을 좋아한다\n",
            "나는 파란색을 좋아한다\n",
            "나는 노란색을 좋아한다\n",
            "나는 초록색을 좋아한다\n"
          ]
        }
      ]
    },
    {
      "cell_type": "code",
      "source": [
        "numbers = [7,9,15,18,30,-3,7,12,-16,-12]\n",
        "sum = 0\n",
        "for number in numbers:\n",
        "  sum = sum + number\n",
        "print(\"합계 :\" , sum)"
      ],
      "metadata": {
        "colab": {
          "base_uri": "https://localhost:8080/"
        },
        "id": "c77tlUliQ51Y",
        "outputId": "03acac5c-4516-4706-8986-241d4ab8ac1c"
      },
      "execution_count": 10,
      "outputs": [
        {
          "output_type": "stream",
          "name": "stdout",
          "text": [
            "합계 : 67\n"
          ]
        }
      ]
    },
    {
      "cell_type": "code",
      "source": [
        "score = [1,3,5,7,9,11,13]\n",
        "cnt = 0\n",
        "for num in score:\n",
        "    if num<10 :\n",
        "      cnt +=1 \n",
        "      print(num , end ='  ')\n",
        "print(\"\\n10보다 작은 수의 개수:\" , cnt)"
      ],
      "metadata": {
        "colab": {
          "base_uri": "https://localhost:8080/"
        },
        "id": "LKzIi7D7RcjX",
        "outputId": "81796a43-a309-455e-9ca3-8f2a6e1f1836"
      },
      "execution_count": 21,
      "outputs": [
        {
          "output_type": "stream",
          "name": "stdout",
          "text": [
            "1  3  5  7  9  \n",
            "10보다 작은 수의 개수: 5\n"
          ]
        }
      ]
    },
    {
      "cell_type": "code",
      "source": [
        "questions = ['tr_in', 'b_s','_axi','air_lane']\n",
        "answers = ['a', 'u' , 't' , 'p']\n",
        "count = 0\n",
        "for i in range(4):\n",
        "    q = '%s에서 밑줄(_)안에 들어갈 알파벳은?' %questions[i]\n",
        "    ans = input(q)\n",
        "    if(ans==answers[i]) :\n",
        "      print('정답입니다')\n",
        "      count +=1\n",
        "    else:\n",
        "      print('틀렸습니다')\n",
        "print(\"당신의 점수는 %d/4 입니다\" %count)"
      ],
      "metadata": {
        "colab": {
          "base_uri": "https://localhost:8080/"
        },
        "id": "VlKWsfawSbOQ",
        "outputId": "ad4c2535-1f73-42c3-85eb-f71a3c6b34e0"
      },
      "execution_count": 19,
      "outputs": [
        {
          "output_type": "stream",
          "name": "stdout",
          "text": [
            "tr_in에서 밑줄(_)안에 들어갈 알파벳은?a\n",
            "정답입니다\n",
            "b_s에서 밑줄(_)안에 들어갈 알파벳은?u\n",
            "정답입니다\n",
            "_axi에서 밑줄(_)안에 들어갈 알파벳은?s\n",
            "틀렸습니다\n",
            "air_lane에서 밑줄(_)안에 들어갈 알파벳은?s\n",
            "틀렸습니다\n",
            "당신의 점수는 2/4 입니다\n"
          ]
        }
      ]
    },
    {
      "cell_type": "code",
      "source": [
        "score = []\n",
        "for i in range(5) :\n",
        "  score.append(int(input(\"성적 입력:\")))\n",
        "print(score)\n",
        "sum = 0\n",
        "for s in score :\n",
        "  sum += s\n",
        "print('총점은 %d이고 , 평균은 %.1f입니다.' %(sum, sum/5))"
      ],
      "metadata": {
        "colab": {
          "base_uri": "https://localhost:8080/"
        },
        "id": "oJONLsVgUgoA",
        "outputId": "d8771076-442b-4224-8556-f5fd92b59010"
      },
      "execution_count": 32,
      "outputs": [
        {
          "output_type": "stream",
          "name": "stdout",
          "text": [
            "성적 입력:59\n",
            "성적 입력:66\n",
            "성적 입력:76\n",
            "성적 입력:82\n",
            "성적 입력:79\n",
            "[59, 66, 76, 82, 79]\n",
            "총점은 362이고 , 평균은 72.4입니다.\n"
          ]
        }
      ]
    },
    {
      "cell_type": "code",
      "source": [
        "numbers = [7,9,15,18,30,-3,7,12,-16,-12]\n",
        "\n",
        "sum = 0\n",
        "print(\"짝수 번째 요소:\", end='')\n",
        "\n",
        "for i in range(1, 10):\n",
        "  while i%2==1 or i%2==-1:\n",
        "        print(numbers[i], end=' ')\n",
        "        sum = sum+numbers[i]\n",
        "        break;\n",
        "print(\"합계\" , sum)"
      ],
      "metadata": {
        "colab": {
          "base_uri": "https://localhost:8080/"
        },
        "id": "bMWCvFelWnnJ",
        "outputId": "2476708b-95d3-4fbc-9993-c6d5dd7f59d5"
      },
      "execution_count": 47,
      "outputs": [
        {
          "output_type": "stream",
          "name": "stdout",
          "text": [
            "짝수 번째 요소:9 18 -3 12 -12 합계 24\n"
          ]
        }
      ]
    },
    {
      "cell_type": "code",
      "source": [
        "s = [64,89,100,85,77,58,79,67,96,87,87,36,82,98,84,76,63,69,53,22]\n",
        "\n",
        "soo = 0\n",
        "woo = 0\n",
        "mi = 0\n",
        "yang = 0\n",
        "ga = 0\n",
        "\n",
        "i = 0\n",
        "while i < len(s): #len(s) : s의 길이를 반환함 len([2,4,3]) ==> 3 \n",
        "  if s[i] >= 90 : \n",
        "    soo +=1\n",
        "  elif s[i] >=80:\n",
        "    woo +=1\n",
        "  elif s[i] >=70:\n",
        "    mi+=1\n",
        "  elif s[i] >=60:\n",
        "    yang +=1\n",
        "  else:\n",
        "    ga +=1\n",
        "  i += 1\n",
        "print('수: %d명'%soo)\n",
        "print('우: %d명' %woo)\n",
        "print('미: %d명' %mi)\n",
        "print('양: %d명' %yang)\n",
        "print('가: %d명' %ga)\n",
        "\n"
      ],
      "metadata": {
        "id": "PzSUrShbWzjO"
      },
      "execution_count": null,
      "outputs": []
    },
    {
      "cell_type": "code",
      "source": [
        "[2 * n for n in range(1,11)]"
      ],
      "metadata": {
        "colab": {
          "base_uri": "https://localhost:8080/"
        },
        "id": "iYg4xV6ygdne",
        "outputId": "1327af2b-4e2a-4627-d91b-9ae65a25a99f"
      },
      "execution_count": 33,
      "outputs": [
        {
          "output_type": "execute_result",
          "data": {
            "text/plain": [
              "[2, 4, 6, 8, 10, 12, 14, 16, 18, 20]"
            ]
          },
          "metadata": {},
          "execution_count": 33
        }
      ]
    },
    {
      "cell_type": "code",
      "source": [
        "even1= [2 * n for n in range(1,51)]\n",
        "even2= [n for n in range(1, 101)if n%2 ==0]\n",
        "print(even1)\n",
        "print(even2)"
      ],
      "metadata": {
        "colab": {
          "base_uri": "https://localhost:8080/"
        },
        "id": "JyWLrbuQgg04",
        "outputId": "678bc872-db2e-43e4-81ac-e9d9fe39cfd3"
      },
      "execution_count": 42,
      "outputs": [
        {
          "output_type": "stream",
          "name": "stdout",
          "text": [
            "[2, 4, 6, 8, 10, 12, 14, 16, 18, 20, 22, 24, 26, 28, 30, 32, 34, 36, 38, 40, 42, 44, 46, 48, 50, 52, 54, 56, 58, 60, 62, 64, 66, 68, 70, 72, 74, 76, 78, 80, 82, 84, 86, 88, 90, 92, 94, 96, 98, 100]\n",
            "[2, 4, 6, 8, 10, 12, 14, 16, 18, 20, 22, 24, 26, 28, 30, 32, 34, 36, 38, 40, 42, 44, 46, 48, 50, 52, 54, 56, 58, 60, 62, 64, 66, 68, 70, 72, 74, 76, 78, 80, 82, 84, 86, 88, 90, 92, 94, 96, 98, 100]\n"
          ]
        }
      ]
    },
    {
      "cell_type": "code",
      "source": [
        "li = []\n",
        "for n in range(1,10):\n",
        "  if n % 3==0 :\n",
        "    li.append(n*n)\n",
        "print(li)"
      ],
      "metadata": {
        "colab": {
          "base_uri": "https://localhost:8080/"
        },
        "id": "UppMvCA3iBFp",
        "outputId": "69606b97-f66e-408b-f731-c2a6f531a805"
      },
      "execution_count": 51,
      "outputs": [
        {
          "output_type": "stream",
          "name": "stdout",
          "text": [
            "[9, 36, 81]\n"
          ]
        }
      ]
    },
    {
      "cell_type": "code",
      "source": [
        "numbers = [1,2,3,4,5]\n",
        "#result = [2 * n for n in range(1,6) if n%2 ==1]\n",
        "result = [2 * n for n in numbers if n%2 ==1]\n",
        "print(result)"
      ],
      "metadata": {
        "colab": {
          "base_uri": "https://localhost:8080/"
        },
        "id": "CtagYlX_jAPL",
        "outputId": "f8353fff-a8e4-4e69-f93e-02d9866fc9a9"
      },
      "execution_count": 54,
      "outputs": [
        {
          "output_type": "stream",
          "name": "stdout",
          "text": [
            "[2, 6, 10]\n"
          ]
        }
      ]
    },
    {
      "cell_type": "code",
      "source": [
        "v = [17, 92, 18, 33, 58, 7, 33, 42]\n",
        "\n",
        "max = v[0]"
      ],
      "metadata": {
        "id": "H9WJU_BhjmUm"
      },
      "execution_count": null,
      "outputs": []
    },
    {
      "cell_type": "code",
      "source": [],
      "metadata": {
        "id": "s3gdvHc8pLKd"
      },
      "execution_count": null,
      "outputs": []
    },
    {
      "cell_type": "code",
      "source": [],
      "metadata": {
        "id": "tXACslRkpLTW"
      },
      "execution_count": null,
      "outputs": []
    },
    {
      "cell_type": "code",
      "source": [
        "numbers = [ [10,20,30],  [40,50,60]]\n",
        "print(numbers[0]) #[10,20,30]\n",
        "print(numbers[1]) #[40,50,60]\n",
        "print(numbers[0][0],numbers[0][1],numbers[0][2])\n",
        "print(numbers[1][0],numbers[1][1],numbers[1][2])"
      ],
      "metadata": {
        "colab": {
          "base_uri": "https://localhost:8080/"
        },
        "id": "e-qWRbfBpLb1",
        "outputId": "9d53a179-42db-42a3-d89d-2bbea5d6decc"
      },
      "execution_count": 56,
      "outputs": [
        {
          "output_type": "stream",
          "name": "stdout",
          "text": [
            "[10, 20, 30]\n",
            "[40, 50, 60]\n",
            "10 20 30\n",
            "40 50 60\n"
          ]
        }
      ]
    },
    {
      "cell_type": "code",
      "source": [
        "numbers = [[10,20,30], [40,50,60,70,80]]\n",
        "print(numbers[0][0],numbers[0][1],numbers[0][2])\n",
        "print()\n",
        "print(numbers[1][0],numbers[1][1],numbers[1][2],numbers[1][3],numbers[1][4])"
      ],
      "metadata": {
        "colab": {
          "base_uri": "https://localhost:8080/"
        },
        "id": "vsKW7XPxpxOA",
        "outputId": "6685e2b5-4517-49aa-ef71-e096acada45f"
      },
      "execution_count": 57,
      "outputs": [
        {
          "output_type": "stream",
          "name": "stdout",
          "text": [
            "10 20 30\n",
            "\n",
            "40 50 60 70 80\n"
          ]
        }
      ]
    },
    {
      "cell_type": "code",
      "source": [
        "for sub in numbers : #1번째 sub = [10, 20, 30] #2번째 sub = [40, 50, 60, 70, 80]\n",
        "  for num in sub : #num = 10 -> 20 -> 30\n",
        "    print(num, end=' ') #10 20 30 줄바꿈 40 50 ... 80\n",
        "  print()"
      ],
      "metadata": {
        "colab": {
          "base_uri": "https://localhost:8080/"
        },
        "id": "AeugmUoGqJdA",
        "outputId": "088515ab-c5bb-43ff-aba1-33b7d9315441"
      },
      "execution_count": 58,
      "outputs": [
        {
          "output_type": "stream",
          "name": "stdout",
          "text": [
            "10 20 30 \n",
            "40 50 60 70 80 \n"
          ]
        }
      ]
    },
    {
      "cell_type": "code",
      "source": [
        "data = [[10, 20], [30,40], [50,60],[70,80]]\n",
        "for i in range(4) : # 0 ~ 3 -> 4\n",
        "  for j in range(2): # j= 0 ~ 1\n",
        "   print(\"data[%d][%d] = [%d]\" %(i,j,data[i][j])) "
      ],
      "metadata": {
        "colab": {
          "base_uri": "https://localhost:8080/"
        },
        "id": "XDv2Ei2graLb",
        "outputId": "1d218ab2-be07-4a52-ae8d-9fbe8056ead5"
      },
      "execution_count": 61,
      "outputs": [
        {
          "output_type": "stream",
          "name": "stdout",
          "text": [
            "data[0][0] = [10]\n",
            "data[0][1] = [20]\n",
            "data[1][0] = [30]\n",
            "data[1][1] = [40]\n",
            "data[2][0] = [50]\n",
            "data[2][1] = [60]\n",
            "data[3][0] = [70]\n",
            "data[3][1] = [80]\n"
          ]
        }
      ]
    },
    {
      "cell_type": "code",
      "source": [
        "strings = [[\"원두커피\",\"라떼\", \"콜라\"], [\"우동\", \"국수\", \"피자\", \"파스타\"]]\n",
        "for i in range(len(strings)):\n",
        "  for j in range(len(strings[i])):\n",
        "    print(strings[i][j] , end =\" \")\n",
        "  print()"
      ],
      "metadata": {
        "colab": {
          "base_uri": "https://localhost:8080/"
        },
        "id": "IFOHLtDysj9I",
        "outputId": "cfd7b7fd-e4a4-44ff-d58b-ef8f672e74b2"
      },
      "execution_count": 80,
      "outputs": [
        {
          "output_type": "stream",
          "name": "stdout",
          "text": [
            "원두커피 라떼 콜라 \n",
            "우동 국수 피자 파스타 \n"
          ]
        }
      ]
    },
    {
      "cell_type": "code",
      "source": [
        "data = [[10,20,30], [40,50] , [60,70,80,90]]\n",
        "print(data)\n",
        "for i in data:\n",
        "  print(i[0])"
      ],
      "metadata": {
        "colab": {
          "base_uri": "https://localhost:8080/"
        },
        "id": "7wsnUJS0ucKf",
        "outputId": "82875b0d-f002-4ab5-eaf8-02fc96791c8c"
      },
      "execution_count": 83,
      "outputs": [
        {
          "output_type": "stream",
          "name": "stdout",
          "text": [
            "[[10, 20, 30], [40, 50], [60, 70, 80, 90]]\n",
            "10\n",
            "40\n",
            "60\n"
          ]
        }
      ]
    },
    {
      "cell_type": "code",
      "source": [
        "score = [[88,76,92,98],\n",
        "         [65,70,58,82],\n",
        "         [82,80,78,88],\n",
        "         ]\n",
        "total = 0\n",
        "totalsub = 0\n",
        "\n",
        "for student in score:\n",
        "  for subject in student:\n",
        "    print(subject)\n",
        "  print()\n",
        "\n"
      ],
      "metadata": {
        "colab": {
          "base_uri": "https://localhost:8080/"
        },
        "id": "155Asn8YvdLF",
        "outputId": "3b7c11cd-d4f3-4436-ddaf-c8802ea5178b"
      },
      "execution_count": 88,
      "outputs": [
        {
          "output_type": "stream",
          "name": "stdout",
          "text": [
            "88\n",
            "76\n",
            "92\n",
            "98\n",
            "\n",
            "65\n",
            "70\n",
            "58\n",
            "82\n",
            "\n",
            "82\n",
            "80\n",
            "78\n",
            "88\n",
            "\n"
          ]
        }
      ]
    }
  ]
}